{
  "nbformat": 4,
  "nbformat_minor": 0,
  "metadata": {
    "colab": {
      "name": "pclub_logistic.ipynb",
      "provenance": []
    },
    "kernelspec": {
      "name": "python3",
      "display_name": "Python 3"
    },
    "language_info": {
      "name": "python"
    }
  },
  "cells": [
    {
      "cell_type": "code",
      "metadata": {
        "id": "_ejTax-lz3Kk"
      },
      "source": [
        "import pandas as pd\n",
        "import numpy as np\n",
        "import matplotlib.pyplot as plt\n",
        "\n",
        "#Reading the data\n",
        "data = pd.read_csv('diabetes2.csv')\n",
        "\n",
        "#Test Train Splitting(Train=80% Test=20%)\n",
        "test=data.sample(frac=0.20,random_state=12) \n",
        "train=data.drop(test.index)\n",
        "test_x = test.loc[:,test.columns != \"Outcome\"]\n",
        "train_x = train.loc[:,train.columns != \"Outcome\"]\n",
        "test_y = test['Outcome'].values \n",
        "train_y = train['Outcome'].values"
      ],
      "execution_count": null,
      "outputs": []
    },
    {
      "cell_type": "code",
      "metadata": {
        "id": "YWWg-xWNz86d"
      },
      "source": [
        "def mean_normalize(X, mean, std):\n",
        "    return (X-mean) / std"
      ],
      "execution_count": null,
      "outputs": []
    },
    {
      "cell_type": "code",
      "metadata": {
        "id": "x2o9MBej0BU1"
      },
      "source": [
        "#Mean Normalizing the Data\n",
        "train_mean = train_x.mean(axis=0) \n",
        "train_std = train_x.std(axis=0)\n",
        "train_x = mean_normalize(train_x,train_mean ,train_std)\n",
        "test_x = mean_normalize(test_x,train_mean ,train_std )"
      ],
      "execution_count": null,
      "outputs": []
    },
    {
      "cell_type": "code",
      "metadata": {
        "id": "UHsiNdgo0E79"
      },
      "source": [
        "#sigmoid function\n",
        "def sigmoid(theta, X):\n",
        "    return 1 / (1 + np.exp((-np.matmul(X,theta.transpose()))))"
      ],
      "execution_count": null,
      "outputs": []
    },
    {
      "cell_type": "code",
      "metadata": {
        "id": "CCC329i-0Hkt"
      },
      "source": [
        "#Cost Function\n",
        "def calculate_cost(theta, X, y, z): \n",
        "    m = X.shape[0]\n",
        "    hyp = sigmoid(theta, X)\n",
        "    cost = (1/m)*(-y*np.log(hyp)-(1-y)*np.log(1-hyp)).sum() + (z / (2*m))*np.square(theta).sum()\n",
        "    cost -= (z / (2*m)) * theta[0]**2 \n",
        "    return cost"
      ],
      "execution_count": null,
      "outputs": []
    },
    {
      "cell_type": "code",
      "metadata": {
        "id": "1U99oEHE0MVF"
      },
      "source": [
        "def calculate_grad(theta, X, y, z):\n",
        "    m = X.shape[0]\n",
        "    hyp = sigmoid(theta, X)\n",
        "    gradient = np.matmul(X.transpose(),hyp - y) \n",
        "    gradient[0] -= (z/m) * theta[0] \n",
        "    gradient += (z/m) * theta\n",
        "    return gradient"
      ],
      "execution_count": null,
      "outputs": []
    },
    {
      "cell_type": "code",
      "metadata": {
        "id": "Ou8SyudB0Ou9"
      },
      "source": [
        "def logistic_regression(X, y, alpha, iteration , test_X, test_y):\n",
        "    #initializing the weight coefficients\n",
        "    theta = np.random.rand(X.shape[1])\n",
        "    m = X.shape[0]\n",
        "    costs_train = []\n",
        "    costs_test = []\n",
        "    for i in range(iteration):\n",
        "        costs_train.append(calculate_cost(theta, X, y, 1))\n",
        "        theta -= alpha * (1/m)*calculate_grad(theta, X ,y, 1)\n",
        "        costs_test.append(calculate_cost(theta, test_X, test_y, 1))\n",
        "    return theta  "
      ],
      "execution_count": null,
      "outputs": []
    },
    {
      "cell_type": "code",
      "metadata": {
        "id": "cQFN9iom0T3t"
      },
      "source": [
        "#predicting with a threshold of 0.5\n",
        "def predict(theta, X, threshold):\n",
        "    pred = sigmoid(theta, X)\n",
        "    pred_result = (pred>=threshold).astype(int)\n",
        "    return pred_result"
      ],
      "execution_count": null,
      "outputs": []
    },
    {
      "cell_type": "code",
      "metadata": {
        "id": "7gYODFY60XEN"
      },
      "source": [
        "train_x.insert(0, 'One', 1) \n",
        "test_x.insert(0, 'One', 1)\n",
        "#regressing using alpha 0.05 and using gradient for 2000 times\n",
        "theta = logistic_regression(train_x.values, train_y, 0.05, 2000, test_x.values, test_y)"
      ],
      "execution_count": null,
      "outputs": []
    },
    {
      "cell_type": "code",
      "metadata": {
        "colab": {
          "base_uri": "https://localhost:8080/"
        },
        "id": "DELACdL60Zxd",
        "outputId": "b09628e0-b2d6-4198-fc68-e10d542cf8f9"
      },
      "source": [
        "pred_y = predict(theta, test_x.values, 0.5)\n",
        "result = pred_y == test_y\n",
        "accuracy=sum(result)*100 / len(result)\n",
        "print(\"Accuracy: {}%\".format(accuracy))"
      ],
      "execution_count": null,
      "outputs": [
        {
          "output_type": "stream",
          "text": [
            "Accuracy: 81.81818181818181%\n"
          ],
          "name": "stdout"
        }
      ]
    }
  ]
}